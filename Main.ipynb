{
 "cells": [
  {
   "cell_type": "code",
   "id": "initial_id",
   "metadata": {
    "collapsed": true,
    "ExecuteTime": {
     "end_time": "2024-09-03T22:09:23.325960Z",
     "start_time": "2024-09-03T22:09:22.503907Z"
    }
   },
   "source": [
    "\n",
    "from wget import download\n",
    "from os import path\n",
    "import pandas as pd\n",
    "\n",
    "# descargamos la base de datos\n",
    "if not path.exists(\"movies.csv\"):\n",
    "  download(\"https://ignaciorlando.github.io/datasets/data-science/movies.csv\")\n",
    "else:\n",
    "  print(\"File already exists!\")\n"
   ],
   "outputs": [],
   "execution_count": 3
  },
  {
   "metadata": {},
   "cell_type": "markdown",
   "source": "Let's take a close approach to the dataset!",
   "id": "e790b77a608c4255"
  },
  {
   "metadata": {},
   "cell_type": "markdown",
   "source": "First of all, read the .csv!",
   "id": "331c4fdcba027542"
  },
  {
   "metadata": {
    "ExecuteTime": {
     "end_time": "2024-09-03T22:12:47.164368Z",
     "start_time": "2024-09-03T22:12:47.114161Z"
    }
   },
   "cell_type": "code",
   "source": [
    "raw_dataset = pd.read_csv(\"movies.csv\")\n",
    "raw_dataset.head()"
   ],
   "id": "ab37fe008a74f65d",
   "outputs": [
    {
     "data": {
      "text/plain": [
       "                                MOVIES         YEAR  \\\n",
       "0                        Blood Red Sky       (2021)   \n",
       "1  Masters of the Universe: Revelation     (2021– )   \n",
       "2                     The Walking Dead  (2010–2022)   \n",
       "3                       Rick and Morty     (2013– )   \n",
       "4                      Army of Thieves       (2021)   \n",
       "\n",
       "                                        GENRE  RATING  \\\n",
       "0      \\nAction, Horror, Thriller                 6.1   \n",
       "1  \\nAnimation, Action, Adventure                 5.0   \n",
       "2       \\nDrama, Horror, Thriller                 8.2   \n",
       "3  \\nAnimation, Adventure, Comedy                 9.2   \n",
       "4         \\nAction, Crime, Horror                 NaN   \n",
       "\n",
       "                                            ONE-LINE  \\\n",
       "0  \\nA woman with a mysterious illness is forced ...   \n",
       "1  \\nThe war for Eternia begins again in what may...   \n",
       "2  \\nSheriff Deputy Rick Grimes wakes up from a c...   \n",
       "3  \\nAn animated series that follows the exploits...   \n",
       "4  \\nA prequel, set before the events of Army of ...   \n",
       "\n",
       "                                               STARS    VOTES  RunTime Gross  \n",
       "0  \\n    Director:\\nPeter Thorwarth\\n| \\n    Star...   21,062    121.0   NaN  \n",
       "1  \\n            \\n    Stars:\\nChris Wood, \\nSara...   17,870     25.0   NaN  \n",
       "2  \\n            \\n    Stars:\\nAndrew Lincoln, \\n...  885,805     44.0   NaN  \n",
       "3  \\n            \\n    Stars:\\nJustin Roiland, \\n...  414,849     23.0   NaN  \n",
       "4  \\n    Director:\\nMatthias Schweighöfer\\n| \\n  ...      NaN      NaN   NaN  "
      ],
      "text/html": [
       "<div>\n",
       "<style scoped>\n",
       "    .dataframe tbody tr th:only-of-type {\n",
       "        vertical-align: middle;\n",
       "    }\n",
       "\n",
       "    .dataframe tbody tr th {\n",
       "        vertical-align: top;\n",
       "    }\n",
       "\n",
       "    .dataframe thead th {\n",
       "        text-align: right;\n",
       "    }\n",
       "</style>\n",
       "<table border=\"1\" class=\"dataframe\">\n",
       "  <thead>\n",
       "    <tr style=\"text-align: right;\">\n",
       "      <th></th>\n",
       "      <th>MOVIES</th>\n",
       "      <th>YEAR</th>\n",
       "      <th>GENRE</th>\n",
       "      <th>RATING</th>\n",
       "      <th>ONE-LINE</th>\n",
       "      <th>STARS</th>\n",
       "      <th>VOTES</th>\n",
       "      <th>RunTime</th>\n",
       "      <th>Gross</th>\n",
       "    </tr>\n",
       "  </thead>\n",
       "  <tbody>\n",
       "    <tr>\n",
       "      <th>0</th>\n",
       "      <td>Blood Red Sky</td>\n",
       "      <td>(2021)</td>\n",
       "      <td>\\nAction, Horror, Thriller</td>\n",
       "      <td>6.1</td>\n",
       "      <td>\\nA woman with a mysterious illness is forced ...</td>\n",
       "      <td>\\n    Director:\\nPeter Thorwarth\\n| \\n    Star...</td>\n",
       "      <td>21,062</td>\n",
       "      <td>121.0</td>\n",
       "      <td>NaN</td>\n",
       "    </tr>\n",
       "    <tr>\n",
       "      <th>1</th>\n",
       "      <td>Masters of the Universe: Revelation</td>\n",
       "      <td>(2021– )</td>\n",
       "      <td>\\nAnimation, Action, Adventure</td>\n",
       "      <td>5.0</td>\n",
       "      <td>\\nThe war for Eternia begins again in what may...</td>\n",
       "      <td>\\n            \\n    Stars:\\nChris Wood, \\nSara...</td>\n",
       "      <td>17,870</td>\n",
       "      <td>25.0</td>\n",
       "      <td>NaN</td>\n",
       "    </tr>\n",
       "    <tr>\n",
       "      <th>2</th>\n",
       "      <td>The Walking Dead</td>\n",
       "      <td>(2010–2022)</td>\n",
       "      <td>\\nDrama, Horror, Thriller</td>\n",
       "      <td>8.2</td>\n",
       "      <td>\\nSheriff Deputy Rick Grimes wakes up from a c...</td>\n",
       "      <td>\\n            \\n    Stars:\\nAndrew Lincoln, \\n...</td>\n",
       "      <td>885,805</td>\n",
       "      <td>44.0</td>\n",
       "      <td>NaN</td>\n",
       "    </tr>\n",
       "    <tr>\n",
       "      <th>3</th>\n",
       "      <td>Rick and Morty</td>\n",
       "      <td>(2013– )</td>\n",
       "      <td>\\nAnimation, Adventure, Comedy</td>\n",
       "      <td>9.2</td>\n",
       "      <td>\\nAn animated series that follows the exploits...</td>\n",
       "      <td>\\n            \\n    Stars:\\nJustin Roiland, \\n...</td>\n",
       "      <td>414,849</td>\n",
       "      <td>23.0</td>\n",
       "      <td>NaN</td>\n",
       "    </tr>\n",
       "    <tr>\n",
       "      <th>4</th>\n",
       "      <td>Army of Thieves</td>\n",
       "      <td>(2021)</td>\n",
       "      <td>\\nAction, Crime, Horror</td>\n",
       "      <td>NaN</td>\n",
       "      <td>\\nA prequel, set before the events of Army of ...</td>\n",
       "      <td>\\n    Director:\\nMatthias Schweighöfer\\n| \\n  ...</td>\n",
       "      <td>NaN</td>\n",
       "      <td>NaN</td>\n",
       "      <td>NaN</td>\n",
       "    </tr>\n",
       "  </tbody>\n",
       "</table>\n",
       "</div>"
      ]
     },
     "execution_count": 5,
     "metadata": {},
     "output_type": "execute_result"
    }
   ],
   "execution_count": 5
  },
  {
   "metadata": {},
   "cell_type": "markdown",
   "source": [
    "What do these columns tell us?\n",
    "INDEX: Mehhhhh, don't need it.\n",
    "MOVIES: Movie name. Just that!\n",
    "YEAR: Year when it was released in case of a movie, or the period of time when it was aired if the column belongs to a tv show!.\n",
    "Genre: Genres.\n",
    "RATING: Scores that go from 0 to 10. \n",
    "ONE-LINE: Short description of what is the serie/movie about.\n",
    "STARS: List of actors who acted on stage!.\n",
    "VOTES: Dunno...\n",
    "Gross: Income?\n",
    "\n",
    "\n",
    "\n"
   ],
   "id": "2eb3c8f62854d587"
  },
  {
   "metadata": {},
   "cell_type": "markdown",
   "source": "Lets find out how many null do we have",
   "id": "ad098d1fd6bca5ca"
  },
  {
   "metadata": {
    "ExecuteTime": {
     "end_time": "2024-09-03T22:22:54.950178Z",
     "start_time": "2024-09-03T22:22:54.941659Z"
    }
   },
   "cell_type": "code",
   "source": "raw_dataset.isna().sum()",
   "id": "4b48b23dfebc3ab6",
   "outputs": [
    {
     "data": {
      "text/plain": [
       "MOVIES         0\n",
       "YEAR         644\n",
       "GENRE         80\n",
       "RATING      1820\n",
       "ONE-LINE       0\n",
       "STARS          0\n",
       "VOTES       1820\n",
       "RunTime     2958\n",
       "Gross       9539\n",
       "dtype: int64"
      ]
     },
     "execution_count": 7,
     "metadata": {},
     "output_type": "execute_result"
    }
   ],
   "execution_count": 7
  },
  {
   "metadata": {},
   "cell_type": "markdown",
   "source": "Not so far! Now lets see in more detail",
   "id": "c5f3542fd7727531"
  },
  {
   "metadata": {
    "ExecuteTime": {
     "end_time": "2024-09-03T22:24:46.965177Z",
     "start_time": "2024-09-03T22:24:46.957746Z"
    }
   },
   "cell_type": "code",
   "source": "raw_dataset[\"MOVIES\"].value_counts()",
   "id": "48d066b285952b2c",
   "outputs": [
    {
     "data": {
      "text/plain": [
       "MOVIES\n",
       " Bleach: Burîchi                         65\n",
       " Mighty Little Bheem                     64\n",
       " Avatar: The Last Airbender              61\n",
       " La Reina de Indias y el Conquistador    60\n",
       " Dexter                                  48\n",
       "                                         ..\n",
       "Halston                                   1\n",
       "Castle Rock                               1\n",
       " Totenfrau                                1\n",
       " Arcane                                   1\n",
       " Shûmatsu no Valkyrie                     1\n",
       "Name: count, Length: 6817, dtype: int64"
      ]
     },
     "execution_count": 9,
     "metadata": {},
     "output_type": "execute_result"
    }
   ],
   "execution_count": 9
  },
  {
   "metadata": {},
   "cell_type": "markdown",
   "source": "WHATTT THEEE HELLL!!! MOVIE NAMES REPEATED!",
   "id": "33ad20c536925269"
  },
  {
   "metadata": {
    "ExecuteTime": {
     "end_time": "2024-09-03T22:26:50.673231Z",
     "start_time": "2024-09-03T22:26:50.665Z"
    }
   },
   "cell_type": "code",
   "source": "raw_dataset[\"ONE-LINE\"].value_counts()",
   "id": "153ce8186525cfef",
   "outputs": [
    {
     "data": {
      "text/plain": [
       "ONE-LINE\n",
       "\\nAdd a Plot\\n                                                                                                                                                                                                              1265\n",
       "\\nThe Buddis bounce, spin, glide - and giggle. - through their magical world, learning new things and sharing the joy of friendship.                                                                                           8\n",
       "\\nWith kindness, curiosity and childlike wonder, five best friends explore their colourful world and find the extraordinary in everyday things.                                                                                8\n",
       "\\nPlot under wraps.                                                                                                                                                                                                            7\n",
       "\\nPlot unknown.                                                                                                                                                                                                                7\n",
       "                                                                                                                                                                                                                            ... \n",
       "\\nPopular influencer JennyX's parents pressure her to maintain her image to keep the profits rolling in, but things change when she meets Nanno.                                                                               1\n",
       "\\nNanno and Yuri's rivalry comes to a head over the fate of a mother and daughter who may be responsible for a slew of disappearances and deaths.                                                                              1\n",
       "\\nNow a bestselling author, Denise leads a quiet life with her wife, Alicia, in upstate New York. But dinner with another couple leads to bigger questions.                                                                    1\n",
       "\\nWhen his ship is damaged in battle, a combat pilot crash-lands on a desolate planet. Fortunately there's an automated shelter on the surface he can take refuge in until rescue arrives - if he can survive that long.       1\n",
       "\\nA trip upstate leads to reflections on the past and present.                                                                                                                                                                 1\n",
       "Name: count, Length: 8688, dtype: int64"
      ]
     },
     "execution_count": 11,
     "metadata": {},
     "output_type": "execute_result"
    }
   ],
   "execution_count": 11
  },
  {
   "metadata": {},
   "cell_type": "markdown",
   "source": "Well... 1265 Add a Plot and 7 unknown",
   "id": "87456230ddde4e84"
  },
  {
   "metadata": {
    "ExecuteTime": {
     "end_time": "2024-09-03T22:28:02.488874Z",
     "start_time": "2024-09-03T22:28:02.478095Z"
    }
   },
   "cell_type": "code",
   "source": "raw_dataset[\"STARS\"].value_counts()",
   "id": "46e68c1cba5f63d9",
   "outputs": [
    {
     "data": {
      "text/plain": [
       "STARS\n",
       "\\n                                                                                                                                       456\n",
       "\\n            \\n    Stars:\\nEmmanuel Esparza, \\nEssined Aponte, \\nManuel Navarro, \\nÁlvaro Benet\\n                                        58\n",
       "\\n    Directors:\\nRajiv Chilaka, \\nKrishna Mohan Chintapatla\\n                                                                            49\n",
       "\\n    Director:\\nOliver Driver\\n| \\n    Stars:\\nRorrie D. Travis, \\nJasmeet Baduwalia, \\nJacqueline Scislowski, \\nAbraham Rodriguez\\n     21\n",
       "\\n            \\n    Star:\\nMichael J. Woodard\\n                                                                                           19\n",
       "                                                                                                                                        ... \n",
       "\\n    Director:\\nJoe Johnston\\n| \\n    Stars:\\nSam Neill, \\nWilliam H. Macy, \\nTéa Leoni, \\nAlessandro Nivola\\n                            1\n",
       "\\n    Director:\\nNicolai Rohde\\n| \\n    Stars:\\nFelix Klare, \\nRomina Küper, \\nAnna Maria Mühe, \\nRobert Palfrader\\n                       1\n",
       "\\n    Director:\\nOrlando von Einsiedel\\n| \\n    Star:\\nPrince Harry\\n                                                                      1\n",
       "\\n    Director:\\nJovanka Vuckovic\\n| \\n    Stars:\\nMorgan Taylor Campbell, \\nIñaki Godoy, \\nRhianna Jagpal, \\nSiddhartha Minhas\\n          1\n",
       "\\n    Director:\\nElliot Dear\\n| \\n    Stars:\\nDivi Mittal, \\nSami Amber, \\nFred Tatasciore, \\nBrynley North\\n                              1\n",
       "Name: count, Length: 7877, dtype: int64"
      ]
     },
     "execution_count": 12,
     "metadata": {},
     "output_type": "execute_result"
    }
   ],
   "execution_count": 12
  },
  {
   "metadata": {},
   "cell_type": "markdown",
   "source": "OH, 456 \\n",
   "id": "47a4f152fd52a615"
  },
  {
   "metadata": {
    "ExecuteTime": {
     "end_time": "2024-09-03T22:31:38.530479Z",
     "start_time": "2024-09-03T22:31:38.524347Z"
    }
   },
   "cell_type": "code",
   "source": "raw_dataset[\"RATING\"].value_counts()",
   "id": "b6e1abfaa15b6532",
   "outputs": [
    {
     "data": {
      "text/plain": [
       "RATING\n",
       "7.2    331\n",
       "7.5    309\n",
       "7.6    309\n",
       "7.4    300\n",
       "7.3    299\n",
       "      ... \n",
       "1.1      1\n",
       "2.0      1\n",
       "2.2      1\n",
       "1.8      1\n",
       "2.4      1\n",
       "Name: count, Length: 82, dtype: int64"
      ]
     },
     "execution_count": 15,
     "metadata": {},
     "output_type": "execute_result"
    }
   ],
   "execution_count": 15
  },
  {
   "metadata": {},
   "cell_type": "markdown",
   "source": "SCRAPPP EVERYTHING!!!! MAKE A COPY FIRST JEJE\n",
   "id": "835524a61d745faa"
  },
  {
   "metadata": {
    "ExecuteTime": {
     "end_time": "2024-09-03T23:29:48.558683Z",
     "start_time": "2024-09-03T23:29:48.554898Z"
    }
   },
   "cell_type": "code",
   "source": "preprocessed_dataset = raw_dataset.copy()",
   "id": "108d46a941e7d01f",
   "outputs": [],
   "execution_count": 100
  },
  {
   "metadata": {},
   "cell_type": "markdown",
   "source": "Fix the ONE-LINE COLUMN",
   "id": "910e73176d20ecb"
  },
  {
   "metadata": {
    "ExecuteTime": {
     "end_time": "2024-09-03T23:29:49.684469Z",
     "start_time": "2024-09-03T23:29:49.675951Z"
    }
   },
   "cell_type": "code",
   "source": [
    "# replace false nans\n",
    "preprocessed_dataset[\"ONE-LINE\"] = preprocessed_dataset[\"ONE-LINE\"].replace(['\\nAdd a Plot\\n', '\\nPlot unknown.', '\\nNA.'], pd.NA)\n",
    "\n",
    "#Delete \\n\n",
    "preprocessed_dataset[\"ONE-LINE\"] = preprocessed_dataset[\"ONE-LINE\"].str.replace(\"\\n\", \"\", regex=False)\n"
   ],
   "id": "a55e1d3013e6fce2",
   "outputs": [],
   "execution_count": 101
  },
  {
   "metadata": {
    "ExecuteTime": {
     "end_time": "2024-09-03T23:29:51.129532Z",
     "start_time": "2024-09-03T23:29:51.121443Z"
    }
   },
   "cell_type": "code",
   "source": "preprocessed_dataset[\"ONE-LINE\"].value_counts()",
   "id": "b2812f1836f9271",
   "outputs": [
    {
     "data": {
      "text/plain": [
       "ONE-LINE\n",
       "The Buddis bounce, spin, glide - and giggle. - through their magical world, learning new things and sharing the joy of friendship.                                                                                        8\n",
       "With kindness, curiosity and childlike wonder, five best friends explore their colourful world and find the extraordinary in everyday things.                                                                             8\n",
       "Plot under wraps.                                                                                                                                                                                                         7\n",
       "Plot kept under wraps.                                                                                                                                                                                                    6\n",
       "Home for Christmas is back to save the holidays. Find out who was behind the door.                                                                                                                                        6\n",
       "                                                                                                                                                                                                                         ..\n",
       "Popular influencer JennyX's parents pressure her to maintain her image to keep the profits rolling in, but things change when she meets Nanno.                                                                            1\n",
       "Nanno and Yuri's rivalry comes to a head over the fate of a mother and daughter who may be responsible for a slew of disappearances and deaths.                                                                           1\n",
       "Now a bestselling author, Denise leads a quiet life with her wife, Alicia, in upstate New York. But dinner with another couple leads to bigger questions.                                                                 1\n",
       "When his ship is damaged in battle, a combat pilot crash-lands on a desolate planet. Fortunately there's an automated shelter on the surface he can take refuge in until rescue arrives - if he can survive that long.    1\n",
       "Lucifer Morningstar has decided he's had enough of being the dutiful servant in Hell and decides to spend some time on Earth to better understand humanity. He settles in Los Angeles - the City of Angels.               1\n",
       "Name: count, Length: 8685, dtype: int64"
      ]
     },
     "execution_count": 102,
     "metadata": {},
     "output_type": "execute_result"
    }
   ],
   "execution_count": 102
  },
  {
   "metadata": {},
   "cell_type": "markdown",
   "source": "NOW FIX STARS!",
   "id": "de47f238792430d3"
  },
  {
   "metadata": {
    "ExecuteTime": {
     "end_time": "2024-09-03T23:29:52.672745Z",
     "start_time": "2024-09-03T23:29:52.664738Z"
    }
   },
   "cell_type": "code",
   "source": [
    "#Delete \\n\n",
    "preprocessed_dataset[\"STARS\"] = preprocessed_dataset[\"STARS\"].str.replace(\"\\n\", \"\", regex=False)\n",
    "\n",
    "# replace false nans\n",
    "preprocessed_dataset[\"STARS\"] = preprocessed_dataset[\"STARS\"].replace('', pd.NA)\n"
   ],
   "id": "7dab17c3aab960bb",
   "outputs": [],
   "execution_count": 103
  },
  {
   "metadata": {
    "ExecuteTime": {
     "end_time": "2024-09-03T23:29:58.945451Z",
     "start_time": "2024-09-03T23:29:58.936443Z"
    }
   },
   "cell_type": "code",
   "source": "preprocessed_dataset[\"STARS\"].value_counts()",
   "id": "423583bc43e8cb49",
   "outputs": [
    {
     "data": {
      "text/plain": [
       "STARS\n",
       "            Stars:Emmanuel Esparza, Essined Aponte, Manuel Navarro, Álvaro Benet                                   58\n",
       "Directors:Rajiv Chilaka, Krishna Mohan Chintapatla                                                                 49\n",
       "Director:Oliver Driver|     Stars:Rorrie D. Travis, Jasmeet Baduwalia, Jacqueline Scislowski, Abraham Rodriguez    21\n",
       "            Star:Michael J. Woodard                                                                                19\n",
       "            Stars:Maite Perroni, Erik Hayser, Alejandro Speitzer, Jorge Poza                                       17\n",
       "                                                                                                                   ..\n",
       "Director:Joe Johnston|     Stars:Sam Neill, William H. Macy, Téa Leoni, Alessandro Nivola                           1\n",
       "Director:Nicolai Rohde|     Stars:Felix Klare, Romina Küper, Anna Maria Mühe, Robert Palfrader                      1\n",
       "Director:Orlando von Einsiedel|     Star:Prince Harry                                                               1\n",
       "Director:Jovanka Vuckovic|     Stars:Morgan Taylor Campbell, Iñaki Godoy, Rhianna Jagpal, Siddhartha Minhas         1\n",
       "            Stars:Millie Bobby Brown, Finn Wolfhard, Winona Ryder, David Harbour                                    1\n",
       "Name: count, Length: 7876, dtype: int64"
      ]
     },
     "execution_count": 104,
     "metadata": {},
     "output_type": "execute_result"
    }
   ],
   "execution_count": 104
  },
  {
   "metadata": {
    "ExecuteTime": {
     "end_time": "2024-09-04T01:05:03.720503Z",
     "start_time": "2024-09-04T01:05:03.708977Z"
    }
   },
   "cell_type": "code",
   "source": "preprocessed_dataset.head()",
   "id": "d116fdf2efe6faa",
   "outputs": [
    {
     "data": {
      "text/plain": [
       "                                MOVIES         YEAR  RATING  \\\n",
       "0                        Blood Red Sky       (2021)     6.1   \n",
       "1  Masters of the Universe: Revelation     (2021– )     5.0   \n",
       "2                     The Walking Dead  (2010–2022)     8.2   \n",
       "3                       Rick and Morty     (2013– )     9.2   \n",
       "4                      Army of Thieves       (2021)     NaN   \n",
       "\n",
       "                                            ONE-LINE  \\\n",
       "0  A woman with a mysterious illness is forced in...   \n",
       "1  The war for Eternia begins again in what may b...   \n",
       "2  Sheriff Deputy Rick Grimes wakes up from a com...   \n",
       "3  An animated series that follows the exploits o...   \n",
       "4  A prequel, set before the events of Army of th...   \n",
       "\n",
       "                                               STARS    VOTES  RunTime Gross  \\\n",
       "0      Director:Peter Thorwarth|     Stars:Peri B...   21,062    121.0   NaN   \n",
       "1                  Stars:Chris Wood, Sarah Michel...   17,870     25.0   NaN   \n",
       "2                  Stars:Andrew Lincoln, Norman R...  885,805     44.0   NaN   \n",
       "3                  Stars:Justin Roiland, Chris Pa...  414,849     23.0   NaN   \n",
       "4      Director:Matthias Schweighöfer|     Stars:...      NaN      NaN   NaN   \n",
       "\n",
       "   Action  Adventure  ...  Reality-TV  Romance  Sci-Fi  Short  Sport  \\\n",
       "0       1          0  ...           0        0       0      0      0   \n",
       "1       1          1  ...           0        0       0      0      0   \n",
       "2       0          0  ...           0        0       0      0      0   \n",
       "3       0          1  ...           0        0       0      0      0   \n",
       "4       1          0  ...           0        0       0      0      0   \n",
       "\n",
       "   Talk-Show  Thriller  War  Western  gross_ordinal  \n",
       "0          0         1    0        0            NaN  \n",
       "1          0         0    0        0            NaN  \n",
       "2          0         1    0        0            NaN  \n",
       "3          0         0    0        0            NaN  \n",
       "4          0         0    0        0            NaN  \n",
       "\n",
       "[5 rows x 36 columns]"
      ],
      "text/html": [
       "<div>\n",
       "<style scoped>\n",
       "    .dataframe tbody tr th:only-of-type {\n",
       "        vertical-align: middle;\n",
       "    }\n",
       "\n",
       "    .dataframe tbody tr th {\n",
       "        vertical-align: top;\n",
       "    }\n",
       "\n",
       "    .dataframe thead th {\n",
       "        text-align: right;\n",
       "    }\n",
       "</style>\n",
       "<table border=\"1\" class=\"dataframe\">\n",
       "  <thead>\n",
       "    <tr style=\"text-align: right;\">\n",
       "      <th></th>\n",
       "      <th>MOVIES</th>\n",
       "      <th>YEAR</th>\n",
       "      <th>RATING</th>\n",
       "      <th>ONE-LINE</th>\n",
       "      <th>STARS</th>\n",
       "      <th>VOTES</th>\n",
       "      <th>RunTime</th>\n",
       "      <th>Gross</th>\n",
       "      <th>Action</th>\n",
       "      <th>Adventure</th>\n",
       "      <th>...</th>\n",
       "      <th>Reality-TV</th>\n",
       "      <th>Romance</th>\n",
       "      <th>Sci-Fi</th>\n",
       "      <th>Short</th>\n",
       "      <th>Sport</th>\n",
       "      <th>Talk-Show</th>\n",
       "      <th>Thriller</th>\n",
       "      <th>War</th>\n",
       "      <th>Western</th>\n",
       "      <th>gross_ordinal</th>\n",
       "    </tr>\n",
       "  </thead>\n",
       "  <tbody>\n",
       "    <tr>\n",
       "      <th>0</th>\n",
       "      <td>Blood Red Sky</td>\n",
       "      <td>(2021)</td>\n",
       "      <td>6.1</td>\n",
       "      <td>A woman with a mysterious illness is forced in...</td>\n",
       "      <td>Director:Peter Thorwarth|     Stars:Peri B...</td>\n",
       "      <td>21,062</td>\n",
       "      <td>121.0</td>\n",
       "      <td>NaN</td>\n",
       "      <td>1</td>\n",
       "      <td>0</td>\n",
       "      <td>...</td>\n",
       "      <td>0</td>\n",
       "      <td>0</td>\n",
       "      <td>0</td>\n",
       "      <td>0</td>\n",
       "      <td>0</td>\n",
       "      <td>0</td>\n",
       "      <td>1</td>\n",
       "      <td>0</td>\n",
       "      <td>0</td>\n",
       "      <td>NaN</td>\n",
       "    </tr>\n",
       "    <tr>\n",
       "      <th>1</th>\n",
       "      <td>Masters of the Universe: Revelation</td>\n",
       "      <td>(2021– )</td>\n",
       "      <td>5.0</td>\n",
       "      <td>The war for Eternia begins again in what may b...</td>\n",
       "      <td>Stars:Chris Wood, Sarah Michel...</td>\n",
       "      <td>17,870</td>\n",
       "      <td>25.0</td>\n",
       "      <td>NaN</td>\n",
       "      <td>1</td>\n",
       "      <td>1</td>\n",
       "      <td>...</td>\n",
       "      <td>0</td>\n",
       "      <td>0</td>\n",
       "      <td>0</td>\n",
       "      <td>0</td>\n",
       "      <td>0</td>\n",
       "      <td>0</td>\n",
       "      <td>0</td>\n",
       "      <td>0</td>\n",
       "      <td>0</td>\n",
       "      <td>NaN</td>\n",
       "    </tr>\n",
       "    <tr>\n",
       "      <th>2</th>\n",
       "      <td>The Walking Dead</td>\n",
       "      <td>(2010–2022)</td>\n",
       "      <td>8.2</td>\n",
       "      <td>Sheriff Deputy Rick Grimes wakes up from a com...</td>\n",
       "      <td>Stars:Andrew Lincoln, Norman R...</td>\n",
       "      <td>885,805</td>\n",
       "      <td>44.0</td>\n",
       "      <td>NaN</td>\n",
       "      <td>0</td>\n",
       "      <td>0</td>\n",
       "      <td>...</td>\n",
       "      <td>0</td>\n",
       "      <td>0</td>\n",
       "      <td>0</td>\n",
       "      <td>0</td>\n",
       "      <td>0</td>\n",
       "      <td>0</td>\n",
       "      <td>1</td>\n",
       "      <td>0</td>\n",
       "      <td>0</td>\n",
       "      <td>NaN</td>\n",
       "    </tr>\n",
       "    <tr>\n",
       "      <th>3</th>\n",
       "      <td>Rick and Morty</td>\n",
       "      <td>(2013– )</td>\n",
       "      <td>9.2</td>\n",
       "      <td>An animated series that follows the exploits o...</td>\n",
       "      <td>Stars:Justin Roiland, Chris Pa...</td>\n",
       "      <td>414,849</td>\n",
       "      <td>23.0</td>\n",
       "      <td>NaN</td>\n",
       "      <td>0</td>\n",
       "      <td>1</td>\n",
       "      <td>...</td>\n",
       "      <td>0</td>\n",
       "      <td>0</td>\n",
       "      <td>0</td>\n",
       "      <td>0</td>\n",
       "      <td>0</td>\n",
       "      <td>0</td>\n",
       "      <td>0</td>\n",
       "      <td>0</td>\n",
       "      <td>0</td>\n",
       "      <td>NaN</td>\n",
       "    </tr>\n",
       "    <tr>\n",
       "      <th>4</th>\n",
       "      <td>Army of Thieves</td>\n",
       "      <td>(2021)</td>\n",
       "      <td>NaN</td>\n",
       "      <td>A prequel, set before the events of Army of th...</td>\n",
       "      <td>Director:Matthias Schweighöfer|     Stars:...</td>\n",
       "      <td>NaN</td>\n",
       "      <td>NaN</td>\n",
       "      <td>NaN</td>\n",
       "      <td>1</td>\n",
       "      <td>0</td>\n",
       "      <td>...</td>\n",
       "      <td>0</td>\n",
       "      <td>0</td>\n",
       "      <td>0</td>\n",
       "      <td>0</td>\n",
       "      <td>0</td>\n",
       "      <td>0</td>\n",
       "      <td>0</td>\n",
       "      <td>0</td>\n",
       "      <td>0</td>\n",
       "      <td>NaN</td>\n",
       "    </tr>\n",
       "  </tbody>\n",
       "</table>\n",
       "<p>5 rows × 36 columns</p>\n",
       "</div>"
      ]
     },
     "execution_count": 126,
     "metadata": {},
     "output_type": "execute_result"
    }
   ],
   "execution_count": 126
  },
  {
   "metadata": {},
   "cell_type": "markdown",
   "source": "Now fix the Genre column!",
   "id": "15cdd004c9775095"
  },
  {
   "metadata": {
    "ExecuteTime": {
     "end_time": "2024-09-03T23:38:30.790599Z",
     "start_time": "2024-09-03T23:38:30.707523Z"
    }
   },
   "cell_type": "code",
   "source": [
    "#Delete \\n\n",
    "preprocessed_dataset[\"GENRE\"] = preprocessed_dataset[\"GENRE\"].str.replace(\"\\n\", \"\", regex=False)\n",
    "preprocessed_dataset[\"GENRE\"] = preprocessed_dataset[\"GENRE\"].str.replace(\" \",\"\")\n",
    "split_genres = preprocessed_dataset['GENRE'].str.get_dummies(sep=',')\n",
    "# Concatenate the one-hot encoded columns with the original DataFrame\n",
    "preprocessed_dataset = pd.concat([preprocessed_dataset, split_genres], axis=1)\n",
    "# Drop the original 'GENRE' column if it is no longer needed\n",
    "preprocessed_dataset.drop('GENRE', axis=1, inplace=True)\n",
    "# Verify the result\n"
   ],
   "id": "5ceb7362dd777213",
   "outputs": [],
   "execution_count": 113
  },
  {
   "metadata": {
    "ExecuteTime": {
     "end_time": "2024-09-04T01:06:19.915160Z",
     "start_time": "2024-09-04T01:06:19.898740Z"
    }
   },
   "cell_type": "code",
   "source": "preprocessed_dataset",
   "id": "89dfb0684ee67f80",
   "outputs": [
    {
     "data": {
      "text/plain": [
       "                                   MOVIES         YEAR  RATING  \\\n",
       "0                           Blood Red Sky       (2021)     6.1   \n",
       "1     Masters of the Universe: Revelation     (2021– )     5.0   \n",
       "2                        The Walking Dead  (2010–2022)     8.2   \n",
       "3                          Rick and Morty     (2013– )     9.2   \n",
       "4                         Army of Thieves       (2021)     NaN   \n",
       "...                                   ...          ...     ...   \n",
       "9994                       The Imperfects     (2021– )     NaN   \n",
       "9995                               Arcane     (2021– )     NaN   \n",
       "9996                    Heart of Invictus     (2022– )     NaN   \n",
       "9997                       The Imperfects     (2021– )     NaN   \n",
       "9998                       The Imperfects     (2021– )     NaN   \n",
       "\n",
       "                                               ONE-LINE  \\\n",
       "0     A woman with a mysterious illness is forced in...   \n",
       "1     The war for Eternia begins again in what may b...   \n",
       "2     Sheriff Deputy Rick Grimes wakes up from a com...   \n",
       "3     An animated series that follows the exploits o...   \n",
       "4     A prequel, set before the events of Army of th...   \n",
       "...                                                 ...   \n",
       "9994                                               <NA>   \n",
       "9995                                               <NA>   \n",
       "9996                                               <NA>   \n",
       "9997                                               <NA>   \n",
       "9998                                               <NA>   \n",
       "\n",
       "                                                  STARS    VOTES  RunTime  \\\n",
       "0         Director:Peter Thorwarth|     Stars:Peri B...   21,062    121.0   \n",
       "1                     Stars:Chris Wood, Sarah Michel...   17,870     25.0   \n",
       "2                     Stars:Andrew Lincoln, Norman R...  885,805     44.0   \n",
       "3                     Stars:Justin Roiland, Chris Pa...  414,849     23.0   \n",
       "4         Director:Matthias Schweighöfer|     Stars:...      NaN      NaN   \n",
       "...                                                 ...      ...      ...   \n",
       "9994                  Stars:Morgan Taylor Campbell, ...      NaN      NaN   \n",
       "9995                                               <NA>      NaN      NaN   \n",
       "9996      Director:Orlando von Einsiedel|     Star:P...      NaN      NaN   \n",
       "9997      Director:Jovanka Vuckovic|     Stars:Morga...      NaN      NaN   \n",
       "9998      Director:Jovanka Vuckovic|     Stars:Morga...      NaN      NaN   \n",
       "\n",
       "     Gross  Action  Adventure  ...  Reality-TV  Romance  Sci-Fi  Short  Sport  \\\n",
       "0      NaN       1          0  ...           0        0       0      0      0   \n",
       "1      NaN       1          1  ...           0        0       0      0      0   \n",
       "2      NaN       0          0  ...           0        0       0      0      0   \n",
       "3      NaN       0          1  ...           0        0       0      0      0   \n",
       "4      NaN       1          0  ...           0        0       0      0      0   \n",
       "...    ...     ...        ...  ...         ...      ...     ...    ...    ...   \n",
       "9994   NaN       0          1  ...           0        0       0      0      0   \n",
       "9995   NaN       1          1  ...           0        0       0      0      0   \n",
       "9996   NaN       0          0  ...           0        0       0      0      1   \n",
       "9997   NaN       0          1  ...           0        0       0      0      0   \n",
       "9998   NaN       0          1  ...           0        0       0      0      0   \n",
       "\n",
       "      Talk-Show  Thriller  War  Western  gross_ordinal  \n",
       "0             0         1    0        0            NaN  \n",
       "1             0         0    0        0            NaN  \n",
       "2             0         1    0        0            NaN  \n",
       "3             0         0    0        0            NaN  \n",
       "4             0         0    0        0            NaN  \n",
       "...         ...       ...  ...      ...            ...  \n",
       "9994          0         0    0        0            NaN  \n",
       "9995          0         0    0        0            NaN  \n",
       "9996          0         0    0        0            NaN  \n",
       "9997          0         0    0        0            NaN  \n",
       "9998          0         0    0        0            NaN  \n",
       "\n",
       "[9999 rows x 36 columns]"
      ],
      "text/html": [
       "<div>\n",
       "<style scoped>\n",
       "    .dataframe tbody tr th:only-of-type {\n",
       "        vertical-align: middle;\n",
       "    }\n",
       "\n",
       "    .dataframe tbody tr th {\n",
       "        vertical-align: top;\n",
       "    }\n",
       "\n",
       "    .dataframe thead th {\n",
       "        text-align: right;\n",
       "    }\n",
       "</style>\n",
       "<table border=\"1\" class=\"dataframe\">\n",
       "  <thead>\n",
       "    <tr style=\"text-align: right;\">\n",
       "      <th></th>\n",
       "      <th>MOVIES</th>\n",
       "      <th>YEAR</th>\n",
       "      <th>RATING</th>\n",
       "      <th>ONE-LINE</th>\n",
       "      <th>STARS</th>\n",
       "      <th>VOTES</th>\n",
       "      <th>RunTime</th>\n",
       "      <th>Gross</th>\n",
       "      <th>Action</th>\n",
       "      <th>Adventure</th>\n",
       "      <th>...</th>\n",
       "      <th>Reality-TV</th>\n",
       "      <th>Romance</th>\n",
       "      <th>Sci-Fi</th>\n",
       "      <th>Short</th>\n",
       "      <th>Sport</th>\n",
       "      <th>Talk-Show</th>\n",
       "      <th>Thriller</th>\n",
       "      <th>War</th>\n",
       "      <th>Western</th>\n",
       "      <th>gross_ordinal</th>\n",
       "    </tr>\n",
       "  </thead>\n",
       "  <tbody>\n",
       "    <tr>\n",
       "      <th>0</th>\n",
       "      <td>Blood Red Sky</td>\n",
       "      <td>(2021)</td>\n",
       "      <td>6.1</td>\n",
       "      <td>A woman with a mysterious illness is forced in...</td>\n",
       "      <td>Director:Peter Thorwarth|     Stars:Peri B...</td>\n",
       "      <td>21,062</td>\n",
       "      <td>121.0</td>\n",
       "      <td>NaN</td>\n",
       "      <td>1</td>\n",
       "      <td>0</td>\n",
       "      <td>...</td>\n",
       "      <td>0</td>\n",
       "      <td>0</td>\n",
       "      <td>0</td>\n",
       "      <td>0</td>\n",
       "      <td>0</td>\n",
       "      <td>0</td>\n",
       "      <td>1</td>\n",
       "      <td>0</td>\n",
       "      <td>0</td>\n",
       "      <td>NaN</td>\n",
       "    </tr>\n",
       "    <tr>\n",
       "      <th>1</th>\n",
       "      <td>Masters of the Universe: Revelation</td>\n",
       "      <td>(2021– )</td>\n",
       "      <td>5.0</td>\n",
       "      <td>The war for Eternia begins again in what may b...</td>\n",
       "      <td>Stars:Chris Wood, Sarah Michel...</td>\n",
       "      <td>17,870</td>\n",
       "      <td>25.0</td>\n",
       "      <td>NaN</td>\n",
       "      <td>1</td>\n",
       "      <td>1</td>\n",
       "      <td>...</td>\n",
       "      <td>0</td>\n",
       "      <td>0</td>\n",
       "      <td>0</td>\n",
       "      <td>0</td>\n",
       "      <td>0</td>\n",
       "      <td>0</td>\n",
       "      <td>0</td>\n",
       "      <td>0</td>\n",
       "      <td>0</td>\n",
       "      <td>NaN</td>\n",
       "    </tr>\n",
       "    <tr>\n",
       "      <th>2</th>\n",
       "      <td>The Walking Dead</td>\n",
       "      <td>(2010–2022)</td>\n",
       "      <td>8.2</td>\n",
       "      <td>Sheriff Deputy Rick Grimes wakes up from a com...</td>\n",
       "      <td>Stars:Andrew Lincoln, Norman R...</td>\n",
       "      <td>885,805</td>\n",
       "      <td>44.0</td>\n",
       "      <td>NaN</td>\n",
       "      <td>0</td>\n",
       "      <td>0</td>\n",
       "      <td>...</td>\n",
       "      <td>0</td>\n",
       "      <td>0</td>\n",
       "      <td>0</td>\n",
       "      <td>0</td>\n",
       "      <td>0</td>\n",
       "      <td>0</td>\n",
       "      <td>1</td>\n",
       "      <td>0</td>\n",
       "      <td>0</td>\n",
       "      <td>NaN</td>\n",
       "    </tr>\n",
       "    <tr>\n",
       "      <th>3</th>\n",
       "      <td>Rick and Morty</td>\n",
       "      <td>(2013– )</td>\n",
       "      <td>9.2</td>\n",
       "      <td>An animated series that follows the exploits o...</td>\n",
       "      <td>Stars:Justin Roiland, Chris Pa...</td>\n",
       "      <td>414,849</td>\n",
       "      <td>23.0</td>\n",
       "      <td>NaN</td>\n",
       "      <td>0</td>\n",
       "      <td>1</td>\n",
       "      <td>...</td>\n",
       "      <td>0</td>\n",
       "      <td>0</td>\n",
       "      <td>0</td>\n",
       "      <td>0</td>\n",
       "      <td>0</td>\n",
       "      <td>0</td>\n",
       "      <td>0</td>\n",
       "      <td>0</td>\n",
       "      <td>0</td>\n",
       "      <td>NaN</td>\n",
       "    </tr>\n",
       "    <tr>\n",
       "      <th>4</th>\n",
       "      <td>Army of Thieves</td>\n",
       "      <td>(2021)</td>\n",
       "      <td>NaN</td>\n",
       "      <td>A prequel, set before the events of Army of th...</td>\n",
       "      <td>Director:Matthias Schweighöfer|     Stars:...</td>\n",
       "      <td>NaN</td>\n",
       "      <td>NaN</td>\n",
       "      <td>NaN</td>\n",
       "      <td>1</td>\n",
       "      <td>0</td>\n",
       "      <td>...</td>\n",
       "      <td>0</td>\n",
       "      <td>0</td>\n",
       "      <td>0</td>\n",
       "      <td>0</td>\n",
       "      <td>0</td>\n",
       "      <td>0</td>\n",
       "      <td>0</td>\n",
       "      <td>0</td>\n",
       "      <td>0</td>\n",
       "      <td>NaN</td>\n",
       "    </tr>\n",
       "    <tr>\n",
       "      <th>...</th>\n",
       "      <td>...</td>\n",
       "      <td>...</td>\n",
       "      <td>...</td>\n",
       "      <td>...</td>\n",
       "      <td>...</td>\n",
       "      <td>...</td>\n",
       "      <td>...</td>\n",
       "      <td>...</td>\n",
       "      <td>...</td>\n",
       "      <td>...</td>\n",
       "      <td>...</td>\n",
       "      <td>...</td>\n",
       "      <td>...</td>\n",
       "      <td>...</td>\n",
       "      <td>...</td>\n",
       "      <td>...</td>\n",
       "      <td>...</td>\n",
       "      <td>...</td>\n",
       "      <td>...</td>\n",
       "      <td>...</td>\n",
       "      <td>...</td>\n",
       "    </tr>\n",
       "    <tr>\n",
       "      <th>9994</th>\n",
       "      <td>The Imperfects</td>\n",
       "      <td>(2021– )</td>\n",
       "      <td>NaN</td>\n",
       "      <td>&lt;NA&gt;</td>\n",
       "      <td>Stars:Morgan Taylor Campbell, ...</td>\n",
       "      <td>NaN</td>\n",
       "      <td>NaN</td>\n",
       "      <td>NaN</td>\n",
       "      <td>0</td>\n",
       "      <td>1</td>\n",
       "      <td>...</td>\n",
       "      <td>0</td>\n",
       "      <td>0</td>\n",
       "      <td>0</td>\n",
       "      <td>0</td>\n",
       "      <td>0</td>\n",
       "      <td>0</td>\n",
       "      <td>0</td>\n",
       "      <td>0</td>\n",
       "      <td>0</td>\n",
       "      <td>NaN</td>\n",
       "    </tr>\n",
       "    <tr>\n",
       "      <th>9995</th>\n",
       "      <td>Arcane</td>\n",
       "      <td>(2021– )</td>\n",
       "      <td>NaN</td>\n",
       "      <td>&lt;NA&gt;</td>\n",
       "      <td>&lt;NA&gt;</td>\n",
       "      <td>NaN</td>\n",
       "      <td>NaN</td>\n",
       "      <td>NaN</td>\n",
       "      <td>1</td>\n",
       "      <td>1</td>\n",
       "      <td>...</td>\n",
       "      <td>0</td>\n",
       "      <td>0</td>\n",
       "      <td>0</td>\n",
       "      <td>0</td>\n",
       "      <td>0</td>\n",
       "      <td>0</td>\n",
       "      <td>0</td>\n",
       "      <td>0</td>\n",
       "      <td>0</td>\n",
       "      <td>NaN</td>\n",
       "    </tr>\n",
       "    <tr>\n",
       "      <th>9996</th>\n",
       "      <td>Heart of Invictus</td>\n",
       "      <td>(2022– )</td>\n",
       "      <td>NaN</td>\n",
       "      <td>&lt;NA&gt;</td>\n",
       "      <td>Director:Orlando von Einsiedel|     Star:P...</td>\n",
       "      <td>NaN</td>\n",
       "      <td>NaN</td>\n",
       "      <td>NaN</td>\n",
       "      <td>0</td>\n",
       "      <td>0</td>\n",
       "      <td>...</td>\n",
       "      <td>0</td>\n",
       "      <td>0</td>\n",
       "      <td>0</td>\n",
       "      <td>0</td>\n",
       "      <td>1</td>\n",
       "      <td>0</td>\n",
       "      <td>0</td>\n",
       "      <td>0</td>\n",
       "      <td>0</td>\n",
       "      <td>NaN</td>\n",
       "    </tr>\n",
       "    <tr>\n",
       "      <th>9997</th>\n",
       "      <td>The Imperfects</td>\n",
       "      <td>(2021– )</td>\n",
       "      <td>NaN</td>\n",
       "      <td>&lt;NA&gt;</td>\n",
       "      <td>Director:Jovanka Vuckovic|     Stars:Morga...</td>\n",
       "      <td>NaN</td>\n",
       "      <td>NaN</td>\n",
       "      <td>NaN</td>\n",
       "      <td>0</td>\n",
       "      <td>1</td>\n",
       "      <td>...</td>\n",
       "      <td>0</td>\n",
       "      <td>0</td>\n",
       "      <td>0</td>\n",
       "      <td>0</td>\n",
       "      <td>0</td>\n",
       "      <td>0</td>\n",
       "      <td>0</td>\n",
       "      <td>0</td>\n",
       "      <td>0</td>\n",
       "      <td>NaN</td>\n",
       "    </tr>\n",
       "    <tr>\n",
       "      <th>9998</th>\n",
       "      <td>The Imperfects</td>\n",
       "      <td>(2021– )</td>\n",
       "      <td>NaN</td>\n",
       "      <td>&lt;NA&gt;</td>\n",
       "      <td>Director:Jovanka Vuckovic|     Stars:Morga...</td>\n",
       "      <td>NaN</td>\n",
       "      <td>NaN</td>\n",
       "      <td>NaN</td>\n",
       "      <td>0</td>\n",
       "      <td>1</td>\n",
       "      <td>...</td>\n",
       "      <td>0</td>\n",
       "      <td>0</td>\n",
       "      <td>0</td>\n",
       "      <td>0</td>\n",
       "      <td>0</td>\n",
       "      <td>0</td>\n",
       "      <td>0</td>\n",
       "      <td>0</td>\n",
       "      <td>0</td>\n",
       "      <td>NaN</td>\n",
       "    </tr>\n",
       "  </tbody>\n",
       "</table>\n",
       "<p>9999 rows × 36 columns</p>\n",
       "</div>"
      ]
     },
     "execution_count": 131,
     "metadata": {},
     "output_type": "execute_result"
    }
   ],
   "execution_count": 131
  },
  {
   "metadata": {
    "ExecuteTime": {
     "end_time": "2024-09-04T01:07:43.026886Z",
     "start_time": "2024-09-04T01:07:43.021373Z"
    }
   },
   "cell_type": "code",
   "source": "preprocessed_dataset[\"gross_ordinal\"].value_counts()",
   "id": "5cabb57adfa2dc1",
   "outputs": [
    {
     "data": {
      "text/plain": [
       "gross_ordinal\n",
       "1.0     22\n",
       "2.0     16\n",
       "3.0     10\n",
       "4.0      9\n",
       "10.0     6\n",
       "8.0      6\n",
       "12.0     5\n",
       "15.0     5\n",
       "5.0      5\n",
       "Name: count, dtype: int64"
      ]
     },
     "execution_count": 143,
     "metadata": {},
     "output_type": "execute_result"
    }
   ],
   "execution_count": 143
  },
  {
   "metadata": {
    "ExecuteTime": {
     "end_time": "2024-09-04T01:07:18.965533Z",
     "start_time": "2024-09-04T01:07:18.957623Z"
    }
   },
   "cell_type": "code",
   "source": [
    "revenue_map = {\n",
    "    '$0.01M' : 1,\n",
    "    '$0.02M': 2,\n",
    "    '$0.03M': 3,\n",
    "    '$0.04M': 4,\n",
    "    '$0.05M': 5,\n",
    "    '$0.08M': 8,\n",
    "    '$0.10M': 10,\n",
    "    '$0.12M': 12,\n",
    "    '$0.15M': 15,\n",
    "}\n",
    "preprocessed_dataset['gross_ordinal'] = preprocessed_dataset['Gross'].map(revenue_map)\n",
    "preprocessed_dataset['gross_ordinal'].value_counts().sort_index()\n"
   ],
   "id": "37ba62710cd06559",
   "outputs": [
    {
     "data": {
      "text/plain": [
       "gross_ordinal\n",
       "1.0     22\n",
       "2.0     16\n",
       "3.0     10\n",
       "4.0      9\n",
       "5.0      5\n",
       "8.0      6\n",
       "10.0     6\n",
       "12.0     5\n",
       "15.0     5\n",
       "Name: count, dtype: int64"
      ]
     },
     "execution_count": 141,
     "metadata": {},
     "output_type": "execute_result"
    }
   ],
   "execution_count": 141
  },
  {
   "metadata": {},
   "cell_type": "markdown",
   "source": [
    "Now, lets analize the relation between the rating and the gross.\n",
    "\n"
   ],
   "id": "72336c979a406cf5"
  },
  {
   "metadata": {
    "ExecuteTime": {
     "end_time": "2024-09-04T01:08:25.016855Z",
     "start_time": "2024-09-04T01:08:24.926773Z"
    }
   },
   "cell_type": "code",
   "source": [
    "import matplotlib.pyplot as plt\n",
    "import numpy as np\n",
    "from scipy import stats\n",
    "\n",
    "variable_1 = \"RATING\"\n",
    "variable_2 = \"gross_ordinal\"\n",
    "\n",
    "\n",
    "\n",
    "plt.figure(figsize=(6, 6))  \n",
    "plt.scatter(preprocessed_dataset[variable_1], preprocessed_dataset[variable_2])\n",
    "plt.xlabel(variable_1)\n",
    "plt.ylabel(variable_2)\n",
    "plt.title(\"Relación entre {} y {}\".format(variable_1, variable_2))\n",
    "\n",
    "column_data1 = preprocessed_dataset[variable_1]\n",
    "column_data2 = preprocessed_dataset[variable_2]\n",
    "\n",
    "\n",
    "#coeficiente_correlacion, _ = stats.pearsonr(column_data1, column_data2)\n",
    "#plt.legend([f\"Correlación: {coeficiente_correlacion:.4f}\"], loc=\"upper left\")\n",
    "\n",
    "\n",
    "plt.grid(True)\n",
    "plt.show()"
   ],
   "id": "8626db43cf8f7e6d",
   "outputs": [
    {
     "data": {
      "text/plain": [
       "<Figure size 600x600 with 1 Axes>"
      ],
      "image/png": "[encoded data removed]"
     },
     "metadata": {},
     "output_type": "display_data"
    }
   ],
   "execution_count": 145
  }
 ],
 "metadata": {
  "kernelspec": {
   "display_name": "Python 3",
   "language": "python",
   "name": "python3"
  },
  "language_info": {
   "codemirror_mode": {
    "name": "ipython",
    "version": 2
   },
   "file_extension": ".py",
   "mimetype": "text/x-python",
   "name": "python",
   "nbconvert_exporter": "python",
   "pygments_lexer": "ipython2",
   "version": "2.7.6"
  }
 },
 "nbformat": 4,
 "nbformat_minor": 5
}
